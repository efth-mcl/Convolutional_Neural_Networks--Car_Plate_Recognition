{
 "cells": [
  {
   "cell_type": "code",
   "execution_count": null,
   "outputs": [],
   "source": [
    "# Disclaimer:\n",
    "# This file is part of the undergraduate thesis of Mr. Efthymis Michalis.\n",
    "# The thesis was developed under the supervision of Assistant Prof. Aggelos\n",
    "# Pikrakis, in the Department of Informatics, School of ICT, University of\n",
    "# Piraeus, Greece."
   ],
   "metadata": {
    "collapsed": false,
    "pycharm": {
     "name": "#%%\n"
    }
   }
  },
  {
   "cell_type": "code",
   "execution_count": null,
   "metadata": {
    "collapsed": true
   },
   "outputs": [],
   "source": [
    "import sys\n",
    "sys.path.append('.')\n",
    "from methods import img2points, bounding_box_draw\n",
    "\n",
    "from sklearn.cluster import DBSCAN\n",
    "import matplotlib.pyplot as plt\n",
    "import numpy as np\n",
    "from skimage import feature\n",
    "from skimage.transform import rescale, resize\n",
    "from nntool.trainer import Trainer\n",
    "import tensorflow as tf\n",
    "import os"
   ]
  },
  {
   "cell_type": "code",
   "execution_count": null,
   "outputs": [],
   "source": [
    "clusters = DBSCAN(np.sqrt(2)+1e-2, 2)\n",
    "\n",
    "height_clusters = DBSCAN(6, 6)\n",
    "\n",
    "\n",
    "tf.compat.v1.disable_eager_execution()\n",
    "model = Trainer('../topology.txt', '../weights')\n",
    "model.SetSession()\n",
    "model.Initialize_Vars()\n",
    "labels = ['0', '1', '2', '3', '4', '5', '6', '7', '8', '9', 'A', 'B', 'C', 'D', 'E', 'F', 'G', 'H', 'I',\n",
    "            'J', 'K', 'L', 'M', 'N', 'O', 'P', 'Q', 'R', 'S', 'T', 'U', 'V', 'W', 'X', 'Y', 'Z']"
   ],
   "metadata": {
    "collapsed": false,
    "pycharm": {
     "name": "#%%\n"
    }
   }
  },
  {
   "cell_type": "code",
   "execution_count": null,
   "outputs": [],
   "source": [
    "# change file_idx\n",
    "file_idx = 0\n",
    "file_path = os.path.join(\"../../plates\", os.listdir(\"../../plates\")[file_idx])\n",
    "img = plt.imread(file_path)\n",
    "\n",
    "plt.imshow(img)\n",
    "plt.show()"
   ],
   "metadata": {
    "collapsed": false,
    "pycharm": {
     "name": "#%%\n"
    }
   }
  },
  {
   "cell_type": "code",
   "execution_count": null,
   "outputs": [],
   "source": [
    "per = (500*1000/img.size)**(1/2)\n",
    "img = resize(img, (int(img.shape[0]*per), int(img.shape[1]*per)), anti_aliasing=True, anti_aliasing_sigma=0.2)\n",
    "plt.imshow(img)"
   ],
   "metadata": {
    "collapsed": false,
    "pycharm": {
     "name": "#%%\n"
    }
   }
  },
  {
   "cell_type": "code",
   "execution_count": null,
   "outputs": [],
   "source": [
    "img_gray = img[:, :, 0]*1/3 + img[:, :, 1]*1/3 + img[:, :, 2]*1/3\n",
    "if np.max(img_gray) > 1:\n",
    "    img_gray *= 1/255"
   ],
   "metadata": {
    "collapsed": false,
    "pycharm": {
     "name": "#%%\n"
    }
   }
  },
  {
   "cell_type": "markdown",
   "source": [
    "## Edge detection"
   ],
   "metadata": {
    "collapsed": false,
    "pycharm": {
     "name": "#%% md\n"
    }
   }
  },
  {
   "cell_type": "code",
   "execution_count": null,
   "outputs": [],
   "source": [
    "cany_img = feature.canny(img_gray, 2, 0.3, 0.6)\n",
    "plt.imshow(cany_img, cmap='gray')\n",
    "plt.show()"
   ],
   "metadata": {
    "collapsed": false,
    "pycharm": {
     "name": "#%%\n"
    }
   }
  },
  {
   "cell_type": "markdown",
   "source": [
    "## Segmentation based on clustering"
   ],
   "metadata": {
    "collapsed": false,
    "pycharm": {
     "name": "#%% md\n"
    }
   }
  },
  {
   "cell_type": "code",
   "execution_count": null,
   "outputs": [],
   "source": [
    "points = img2points(cany_img, 0)\n",
    "clusters.fit(points)\n",
    "points_labels = clusters.labels_"
   ],
   "metadata": {
    "collapsed": false,
    "pycharm": {
     "name": "#%%\n"
    }
   }
  },
  {
   "cell_type": "code",
   "execution_count": null,
   "outputs": [],
   "source": [
    "\n",
    "unique_labels = set(points_labels)\n",
    "corners = []\n",
    "for un_point_label in unique_labels:\n",
    "    mask_un_label = np.where(points_labels == un_point_label)\n",
    "    class_points = points[mask_un_label]\n",
    "    corners.append([np.min(class_points[:, 0]), np.min(class_points[:, 1]),\n",
    "                    np.max(class_points[:, 0]), np.max(class_points[:, 1])\n",
    "                    ])\n",
    "corners = np.array(corners)\n",
    "\n",
    "bounding_box_draw(img_gray, corners)"
   ],
   "metadata": {
    "collapsed": false,
    "pycharm": {
     "name": "#%%\n"
    }
   }
  },
  {
   "cell_type": "code",
   "execution_count": null,
   "outputs": [],
   "source": [
    "plt.figure()\n",
    "plt.plot(corners[:, 0], corners[:, 2], 'o', label='other objects')\n",
    "\n",
    "height_clusters.fit(corners[:, [0,2]])\n",
    "mask = np.where(height_clusters.labels_ != -1)\n",
    "corners = corners[mask]\n",
    "\n",
    "plt.xlabel(r'$PosY_{min}$', fontsize=16)\n",
    "plt.ylabel(r'$PosY_{max}$', fontsize=16)\n",
    "plt.plot(corners[:, 0], corners[:, 2], 'or', label='possible characters')\n",
    "plt.title('Density = '+str(15)+', Radius = '+str(4), fontsize=16)\n",
    "plt.legend(fontsize=16)\n",
    "\n",
    "plt.figure()\n",
    "bounding_box_draw(img_gray, corners)"
   ],
   "metadata": {
    "collapsed": false,
    "pycharm": {
     "name": "#%%\n"
    }
   }
  },
  {
   "cell_type": "markdown",
   "source": [
    "## Test recognition"
   ],
   "metadata": {
    "collapsed": false,
    "pycharm": {
     "name": "#%% md\n"
    }
   }
  },
  {
   "cell_type": "code",
   "execution_count": null,
   "outputs": [],
   "source": [
    "label_obj = []\n",
    "for i, corner in enumerate(corners):\n",
    "    corner[[0,1]] += -1\n",
    "    corner[[2,3]] += 1\n",
    "    crop_img = img_gray[corner[0]:corner[2], corner[1]:corner[3]]\n",
    "    label_obj.append([corner[1]])\n",
    "    crop_img = 1 - crop_img\n",
    "    crop_img = crop_img > 0.5\n",
    "    dx = corner[2] - corner[0]\n",
    "    dy = corner[3] - corner[1]\n",
    "    avg = abs(dx-dy)/2\n",
    "    panding0 = int(avg)+int(avg != int(avg))\n",
    "    panding1 = int(avg)\n",
    "    if dx > dy:\n",
    "        crop_img = np.concatenate((np.zeros((dx, panding0)), crop_img, np.zeros((dx, panding1))), axis=1)\n",
    "    elif dx < dy:\n",
    "        crop_img = np.concatenate((np.zeros((panding0, dy)), crop_img, np.zeros((panding1, dy))), axis=0)\n",
    "\n",
    "    scale_img = rescale(crop_img, (28-4)/crop_img.shape[0], anti_aliasing=True)\n",
    "    scale_img = np.concatenate((np.zeros((28-4, 2)), scale_img, np.zeros((28-4, 2))), axis=1)\n",
    "    scale_img = np.concatenate((np.zeros((2, 28)), scale_img, np.zeros((2, 28))), axis=0)\n",
    "\n",
    "    confidence = model.Layers[-1].eval(feed_dict={\n",
    "                     model.Layers[0]: scale_img.reshape(1, 28, 28, 1),\n",
    "                     model.keep_prob: np.ones((model.DroupoutsProbabilitys.shape[0]))\n",
    "            })[0]\n",
    "    confidence_argmax = np.argmax(confidence)\n",
    "    label = labels[confidence_argmax]\n",
    "    confidence_max = np.max(confidence)\n",
    "    plt.figure(figsize=(3,3))\n",
    "    plt.title(\"Confidence:\\n %.2f\\nClass: %s\" % (confidence_max, label))\n",
    "    plt.axis('off')\n",
    "    plt.imshow(scale_img, cmap='Greys_r')\n",
    "\n",
    "    label_obj[-1].append(label)\n",
    "\n",
    "\n",
    "pred_plate = ''\n",
    "for label in sorted(label_obj, key=lambda chari: chari[0]):\n",
    "    pred_plate += label[1]"
   ],
   "metadata": {
    "collapsed": false,
    "pycharm": {
     "name": "#%%\n"
    }
   }
  },
  {
   "cell_type": "code",
   "execution_count": null,
   "outputs": [],
   "source": [
    "plt.title('Pred car plate: {}'.format(pred_plate))\n",
    "plt.imshow(img)"
   ],
   "metadata": {
    "collapsed": false,
    "pycharm": {
     "name": "#%%\n"
    }
   }
  }
 ],
 "metadata": {
  "kernelspec": {
   "display_name": "Python 3",
   "language": "python",
   "name": "python3"
  },
  "language_info": {
   "codemirror_mode": {
    "name": "ipython",
    "version": 2
   },
   "file_extension": ".py",
   "mimetype": "text/x-python",
   "name": "python",
   "nbconvert_exporter": "python",
   "pygments_lexer": "ipython2",
   "version": "2.7.6"
  }
 },
 "nbformat": 4,
 "nbformat_minor": 0
}